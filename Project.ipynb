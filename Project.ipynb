{
 "cells": [
  {
   "cell_type": "markdown",
   "metadata": {},
   "source": [
    "# **ML Project**\n",
    "\n",
    "This file covers all fundamental concepts required for our project\n",
    "\n",
    "**Authors**\n",
    "  * Andrew Guillete\n",
    "  * Lucas Thormann\n",
    "\n",
    "# **Overview**\n",
    "\n",
    "* See [README.md](README.md) for project description & details"
   ]
  },
  {
   "cell_type": "markdown",
   "metadata": {},
   "source": [
    "# **Exploratory Data Analysis**\n",
    "* Creating a dataframe & exploring the data"
   ]
  },
  {
   "cell_type": "code",
   "execution_count": 320,
   "metadata": {},
   "outputs": [],
   "source": [
    "import pandas as pd\n",
    "from sklearn.model_selection import train_test_split\n",
    "import matplotlib.pyplot as plt\n",
    "import numpy as np\n",
    "import seaborn as sns\n",
    "from sklearn.preprocessing import MinMaxScaler\n",
    "from sklearn.preprocessing import scale \n",
    "from sklearn.linear_model import Ridge, Lasso\n",
    "from sklearn.metrics import mean_squared_error\n",
    "from sklearn.metrics import r2_score"
   ]
  },
  {
   "cell_type": "markdown",
   "metadata": {},
   "source": [
    "# **Exploratory Data Analysis**"
   ]
  },
  {
   "cell_type": "code",
   "execution_count": 321,
   "metadata": {},
   "outputs": [],
   "source": [
    "df = pd.read_csv('quantumstock1.csv', na_values = \"?\")"
   ]
  },
  {
   "cell_type": "code",
   "execution_count": 322,
   "metadata": {},
   "outputs": [
    {
     "data": {
      "text/html": [
       "<div>\n",
       "<style scoped>\n",
       "    .dataframe tbody tr th:only-of-type {\n",
       "        vertical-align: middle;\n",
       "    }\n",
       "\n",
       "    .dataframe tbody tr th {\n",
       "        vertical-align: top;\n",
       "    }\n",
       "\n",
       "    .dataframe thead th {\n",
       "        text-align: right;\n",
       "    }\n",
       "</style>\n",
       "<table border=\"1\" class=\"dataframe\">\n",
       "  <thead>\n",
       "    <tr style=\"text-align: right;\">\n",
       "      <th></th>\n",
       "      <th>Date</th>\n",
       "      <th>open</th>\n",
       "      <th>high</th>\n",
       "      <th>low</th>\n",
       "      <th>close</th>\n",
       "      <th>adjclose</th>\n",
       "      <th>volume</th>\n",
       "      <th>ticker</th>\n",
       "    </tr>\n",
       "  </thead>\n",
       "  <tbody>\n",
       "    <tr>\n",
       "      <th>0</th>\n",
       "      <td>2021-01-04</td>\n",
       "      <td>11.125</td>\n",
       "      <td>11.25</td>\n",
       "      <td>10.500</td>\n",
       "      <td>10.80</td>\n",
       "      <td>10.80</td>\n",
       "      <td>150500.0</td>\n",
       "      <td>IONQ</td>\n",
       "    </tr>\n",
       "    <tr>\n",
       "      <th>1</th>\n",
       "      <td>2021-01-05</td>\n",
       "      <td>10.850</td>\n",
       "      <td>11.83</td>\n",
       "      <td>10.750</td>\n",
       "      <td>11.11</td>\n",
       "      <td>11.11</td>\n",
       "      <td>165300.0</td>\n",
       "      <td>IONQ</td>\n",
       "    </tr>\n",
       "    <tr>\n",
       "      <th>2</th>\n",
       "      <td>2021-01-06</td>\n",
       "      <td>11.500</td>\n",
       "      <td>11.50</td>\n",
       "      <td>11.000</td>\n",
       "      <td>11.05</td>\n",
       "      <td>11.05</td>\n",
       "      <td>175600.0</td>\n",
       "      <td>IONQ</td>\n",
       "    </tr>\n",
       "    <tr>\n",
       "      <th>3</th>\n",
       "      <td>2021-01-07</td>\n",
       "      <td>11.500</td>\n",
       "      <td>11.50</td>\n",
       "      <td>11.050</td>\n",
       "      <td>11.11</td>\n",
       "      <td>11.11</td>\n",
       "      <td>94200.0</td>\n",
       "      <td>IONQ</td>\n",
       "    </tr>\n",
       "    <tr>\n",
       "      <th>4</th>\n",
       "      <td>2021-01-08</td>\n",
       "      <td>11.650</td>\n",
       "      <td>12.35</td>\n",
       "      <td>11.000</td>\n",
       "      <td>11.01</td>\n",
       "      <td>11.01</td>\n",
       "      <td>137500.0</td>\n",
       "      <td>IONQ</td>\n",
       "    </tr>\n",
       "    <tr>\n",
       "      <th>5</th>\n",
       "      <td>2021-01-11</td>\n",
       "      <td>11.800</td>\n",
       "      <td>11.80</td>\n",
       "      <td>10.800</td>\n",
       "      <td>11.17</td>\n",
       "      <td>11.17</td>\n",
       "      <td>162600.0</td>\n",
       "      <td>IONQ</td>\n",
       "    </tr>\n",
       "    <tr>\n",
       "      <th>6</th>\n",
       "      <td>2021-01-12</td>\n",
       "      <td>11.800</td>\n",
       "      <td>11.80</td>\n",
       "      <td>11.070</td>\n",
       "      <td>11.18</td>\n",
       "      <td>11.18</td>\n",
       "      <td>210700.0</td>\n",
       "      <td>IONQ</td>\n",
       "    </tr>\n",
       "    <tr>\n",
       "      <th>7</th>\n",
       "      <td>2021-01-13</td>\n",
       "      <td>11.340</td>\n",
       "      <td>11.37</td>\n",
       "      <td>10.970</td>\n",
       "      <td>11.20</td>\n",
       "      <td>11.20</td>\n",
       "      <td>386100.0</td>\n",
       "      <td>IONQ</td>\n",
       "    </tr>\n",
       "    <tr>\n",
       "      <th>8</th>\n",
       "      <td>2021-01-14</td>\n",
       "      <td>11.310</td>\n",
       "      <td>11.70</td>\n",
       "      <td>11.225</td>\n",
       "      <td>11.44</td>\n",
       "      <td>11.44</td>\n",
       "      <td>291000.0</td>\n",
       "      <td>IONQ</td>\n",
       "    </tr>\n",
       "    <tr>\n",
       "      <th>9</th>\n",
       "      <td>2021-01-15</td>\n",
       "      <td>11.570</td>\n",
       "      <td>11.79</td>\n",
       "      <td>11.110</td>\n",
       "      <td>11.22</td>\n",
       "      <td>11.22</td>\n",
       "      <td>269600.0</td>\n",
       "      <td>IONQ</td>\n",
       "    </tr>\n",
       "  </tbody>\n",
       "</table>\n",
       "</div>"
      ],
      "text/plain": [
       "         Date    open   high     low  close  adjclose    volume ticker\n",
       "0  2021-01-04  11.125  11.25  10.500  10.80     10.80  150500.0   IONQ\n",
       "1  2021-01-05  10.850  11.83  10.750  11.11     11.11  165300.0   IONQ\n",
       "2  2021-01-06  11.500  11.50  11.000  11.05     11.05  175600.0   IONQ\n",
       "3  2021-01-07  11.500  11.50  11.050  11.11     11.11   94200.0   IONQ\n",
       "4  2021-01-08  11.650  12.35  11.000  11.01     11.01  137500.0   IONQ\n",
       "5  2021-01-11  11.800  11.80  10.800  11.17     11.17  162600.0   IONQ\n",
       "6  2021-01-12  11.800  11.80  11.070  11.18     11.18  210700.0   IONQ\n",
       "7  2021-01-13  11.340  11.37  10.970  11.20     11.20  386100.0   IONQ\n",
       "8  2021-01-14  11.310  11.70  11.225  11.44     11.44  291000.0   IONQ\n",
       "9  2021-01-15  11.570  11.79  11.110  11.22     11.22  269600.0   IONQ"
      ]
     },
     "execution_count": 322,
     "metadata": {},
     "output_type": "execute_result"
    }
   ],
   "source": [
    "df.head(10)"
   ]
  },
  {
   "cell_type": "code",
   "execution_count": 323,
   "metadata": {},
   "outputs": [
    {
     "name": "stdout",
     "output_type": "stream",
     "text": [
      "<class 'pandas.core.frame.DataFrame'>\n",
      "RangeIndex: 136518 entries, 0 to 136517\n",
      "Data columns (total 8 columns):\n",
      " #   Column    Non-Null Count   Dtype  \n",
      "---  ------    --------------   -----  \n",
      " 0   Date      136518 non-null  object \n",
      " 1   open      136473 non-null  float64\n",
      " 2   high      136473 non-null  float64\n",
      " 3   low       136473 non-null  float64\n",
      " 4   close     136473 non-null  float64\n",
      " 5   adjclose  136473 non-null  float64\n",
      " 6   volume    136473 non-null  float64\n",
      " 7   ticker    136518 non-null  object \n",
      "dtypes: float64(6), object(2)\n",
      "memory usage: 8.3+ MB\n"
     ]
    }
   ],
   "source": [
    "df.info()"
   ]
  },
  {
   "cell_type": "code",
   "execution_count": 324,
   "metadata": {},
   "outputs": [
    {
     "data": {
      "text/html": [
       "<div>\n",
       "<style scoped>\n",
       "    .dataframe tbody tr th:only-of-type {\n",
       "        vertical-align: middle;\n",
       "    }\n",
       "\n",
       "    .dataframe tbody tr th {\n",
       "        vertical-align: top;\n",
       "    }\n",
       "\n",
       "    .dataframe thead th {\n",
       "        text-align: right;\n",
       "    }\n",
       "</style>\n",
       "<table border=\"1\" class=\"dataframe\">\n",
       "  <thead>\n",
       "    <tr style=\"text-align: right;\">\n",
       "      <th></th>\n",
       "      <th>open</th>\n",
       "      <th>high</th>\n",
       "      <th>low</th>\n",
       "      <th>close</th>\n",
       "      <th>adjclose</th>\n",
       "      <th>volume</th>\n",
       "    </tr>\n",
       "  </thead>\n",
       "  <tbody>\n",
       "    <tr>\n",
       "      <th>count</th>\n",
       "      <td>136473.000000</td>\n",
       "      <td>136473.000000</td>\n",
       "      <td>136473.000000</td>\n",
       "      <td>136473.000000</td>\n",
       "      <td>136473.000000</td>\n",
       "      <td>1.364730e+05</td>\n",
       "    </tr>\n",
       "    <tr>\n",
       "      <th>mean</th>\n",
       "      <td>167.119533</td>\n",
       "      <td>168.892349</td>\n",
       "      <td>165.238686</td>\n",
       "      <td>167.098051</td>\n",
       "      <td>145.714925</td>\n",
       "      <td>1.256765e+07</td>\n",
       "    </tr>\n",
       "    <tr>\n",
       "      <th>std</th>\n",
       "      <td>499.878954</td>\n",
       "      <td>504.748352</td>\n",
       "      <td>494.531675</td>\n",
       "      <td>499.680962</td>\n",
       "      <td>451.972433</td>\n",
       "      <td>2.434017e+07</td>\n",
       "    </tr>\n",
       "    <tr>\n",
       "      <th>min</th>\n",
       "      <td>0.000000</td>\n",
       "      <td>0.015000</td>\n",
       "      <td>0.010000</td>\n",
       "      <td>0.015000</td>\n",
       "      <td>0.015000</td>\n",
       "      <td>0.000000e+00</td>\n",
       "    </tr>\n",
       "    <tr>\n",
       "      <th>25%</th>\n",
       "      <td>8.289412</td>\n",
       "      <td>8.390625</td>\n",
       "      <td>8.160000</td>\n",
       "      <td>8.282209</td>\n",
       "      <td>4.747473</td>\n",
       "      <td>8.074000e+05</td>\n",
       "    </tr>\n",
       "    <tr>\n",
       "      <th>50%</th>\n",
       "      <td>24.780001</td>\n",
       "      <td>25.059999</td>\n",
       "      <td>24.500000</td>\n",
       "      <td>24.796844</td>\n",
       "      <td>16.538219</td>\n",
       "      <td>3.271000e+06</td>\n",
       "    </tr>\n",
       "    <tr>\n",
       "      <th>75%</th>\n",
       "      <td>69.760002</td>\n",
       "      <td>70.559998</td>\n",
       "      <td>68.970001</td>\n",
       "      <td>69.773445</td>\n",
       "      <td>53.453701</td>\n",
       "      <td>1.122740e+07</td>\n",
       "    </tr>\n",
       "    <tr>\n",
       "      <th>max</th>\n",
       "      <td>5000.000000</td>\n",
       "      <td>5000.000000</td>\n",
       "      <td>5000.000000</td>\n",
       "      <td>5000.000000</td>\n",
       "      <td>5000.000000</td>\n",
       "      <td>1.123003e+09</td>\n",
       "    </tr>\n",
       "  </tbody>\n",
       "</table>\n",
       "</div>"
      ],
      "text/plain": [
       "                open           high            low          close  \\\n",
       "count  136473.000000  136473.000000  136473.000000  136473.000000   \n",
       "mean      167.119533     168.892349     165.238686     167.098051   \n",
       "std       499.878954     504.748352     494.531675     499.680962   \n",
       "min         0.000000       0.015000       0.010000       0.015000   \n",
       "25%         8.289412       8.390625       8.160000       8.282209   \n",
       "50%        24.780001      25.059999      24.500000      24.796844   \n",
       "75%        69.760002      70.559998      68.970001      69.773445   \n",
       "max      5000.000000    5000.000000    5000.000000    5000.000000   \n",
       "\n",
       "            adjclose        volume  \n",
       "count  136473.000000  1.364730e+05  \n",
       "mean      145.714925  1.256765e+07  \n",
       "std       451.972433  2.434017e+07  \n",
       "min         0.015000  0.000000e+00  \n",
       "25%         4.747473  8.074000e+05  \n",
       "50%        16.538219  3.271000e+06  \n",
       "75%        53.453701  1.122740e+07  \n",
       "max      5000.000000  1.123003e+09  "
      ]
     },
     "execution_count": 324,
     "metadata": {},
     "output_type": "execute_result"
    }
   ],
   "source": [
    "df.describe()"
   ]
  },
  {
   "cell_type": "markdown",
   "metadata": {},
   "source": [
    "**Cleaning Data**\n",
    "* Begin data cleaning for all columns by filling NaN's with value 0"
   ]
  },
  {
   "cell_type": "code",
   "execution_count": 325,
   "metadata": {},
   "outputs": [
    {
     "name": "stdout",
     "output_type": "stream",
     "text": [
      "Date         0\n",
      "open        45\n",
      "high        45\n",
      "low         45\n",
      "close       45\n",
      "adjclose    45\n",
      "volume      45\n",
      "ticker       0\n",
      "dtype: int64\n"
     ]
    }
   ],
   "source": [
    "print(df.isna().sum())\n",
    "\n",
    "df.fillna(value=0,inplace=True)"
   ]
  },
  {
   "cell_type": "code",
   "execution_count": 326,
   "metadata": {},
   "outputs": [
    {
     "data": {
      "text/plain": [
       "Date        0\n",
       "open        0\n",
       "high        0\n",
       "low         0\n",
       "close       0\n",
       "adjclose    0\n",
       "volume      0\n",
       "ticker      0\n",
       "dtype: int64"
      ]
     },
     "execution_count": 326,
     "metadata": {},
     "output_type": "execute_result"
    }
   ],
   "source": [
    "df.isna().sum()"
   ]
  },
  {
   "cell_type": "markdown",
   "metadata": {},
   "source": [
    "# **Data Preprocessing & Further Exploration** \n",
    "* Breaking the dataset into three subsets (arbitrarily) based on their ticker then ```visualizing``` the data\n"
   ]
  },
  {
   "cell_type": "code",
   "execution_count": 327,
   "metadata": {},
   "outputs": [],
   "source": [
    "df1 = df[df['ticker'] == 'IONQ']\n",
    "df2 = df[df['ticker'] == 'GOOG']\n",
    "df3 = df[df['ticker'] == 'IBM']"
   ]
  },
  {
   "cell_type": "code",
   "execution_count": 328,
   "metadata": {},
   "outputs": [
    {
     "data": {
      "text/plain": [
       "<AxesSubplot:xlabel='Date', ylabel='adjclose'>"
      ]
     },
     "execution_count": 328,
     "metadata": {},
     "output_type": "execute_result"
    },
    {
     "data": {
      "image/png": "[encoded data removed]",
      "text/plain": [
       "<Figure size 432x288 with 1 Axes>"
      ]
     },
     "metadata": {
      "needs_background": "light"
     },
     "output_type": "display_data"
    }
   ],
   "source": [
    "sns.scatterplot(data = df1 , x ='Date', y = 'adjclose')"
   ]
  },
  {
   "cell_type": "code",
   "execution_count": 329,
   "metadata": {},
   "outputs": [
    {
     "data": {
      "text/plain": [
       "<AxesSubplot:xlabel='Date', ylabel='adjclose'>"
      ]
     },
     "execution_count": 329,
     "metadata": {},
     "output_type": "execute_result"
    },
    {
     "data": {
      "image/png": "[encoded data removed]",
      "text/plain": [
       "<Figure size 432x288 with 1 Axes>"
      ]
     },
     "metadata": {
      "needs_background": "light"
     },
     "output_type": "display_data"
    }
   ],
   "source": [
    "sns.scatterplot(data = df2 , x ='Date', y = 'adjclose')"
   ]
  },
  {
   "cell_type": "code",
   "execution_count": 330,
   "metadata": {},
   "outputs": [
    {
     "data": {
      "text/plain": [
       "<AxesSubplot:xlabel='Date', ylabel='adjclose'>"
      ]
     },
     "execution_count": 330,
     "metadata": {},
     "output_type": "execute_result"
    },
    {
     "data": {
      "image/png": "[encoded data removed]",
      "text/plain": [
       "<Figure size 432x288 with 1 Axes>"
      ]
     },
     "metadata": {
      "needs_background": "light"
     },
     "output_type": "display_data"
    }
   ],
   "source": [
    "sns.scatterplot(data = df3, x ='Date', y = 'adjclose')"
   ]
  },
  {
   "cell_type": "markdown",
   "metadata": {},
   "source": [
    "**Data Cleaning**"
   ]
  },
  {
   "cell_type": "code",
   "execution_count": 331,
   "metadata": {},
   "outputs": [
    {
     "name": "stderr",
     "output_type": "stream",
     "text": [
      "C:\\Users\\Scott\\AppData\\Local\\Temp\\ipykernel_11552\\3910634810.py:1: SettingWithCopyWarning: \n",
      "A value is trying to be set on a copy of a slice from a DataFrame\n",
      "\n",
      "See the caveats in the documentation: https://pandas.pydata.org/pandas-docs/stable/user_guide/indexing.html#returning-a-view-versus-a-copy\n",
      "  df2.drop(['ticker'], axis = 1, inplace = True)\n",
      "C:\\Users\\Scott\\AppData\\Local\\Temp\\ipykernel_11552\\3910634810.py:2: SettingWithCopyWarning: \n",
      "A value is trying to be set on a copy of a slice from a DataFrame.\n",
      "Try using .loc[row_indexer,col_indexer] = value instead\n",
      "\n",
      "See the caveats in the documentation: https://pandas.pydata.org/pandas-docs/stable/user_guide/indexing.html#returning-a-view-versus-a-copy\n",
      "  df2['Date'] = pd.to_datetime(df2['Date'])\n"
     ]
    },
    {
     "data": {
      "text/plain": [
       "28607    20040819\n",
       "28608    20040820\n",
       "28609    20040823\n",
       "28610    20040824\n",
       "28611    20040825\n",
       "           ...   \n",
       "33019    20220228\n",
       "33020    20220301\n",
       "33021    20220302\n",
       "33022    20220303\n",
       "33023    20220303\n",
       "Name: Date, Length: 4417, dtype: object"
      ]
     },
     "execution_count": 331,
     "metadata": {},
     "output_type": "execute_result"
    }
   ],
   "source": [
    "df2.drop(['ticker'], axis = 1, inplace = True)\n",
    "df2['Date'] = pd.to_datetime(df2['Date'])\n",
    "df2['Date'].dt.strftime('%Y%m%d')"
   ]
  },
  {
   "cell_type": "code",
   "execution_count": 332,
   "metadata": {},
   "outputs": [
    {
     "name": "stdout",
     "output_type": "stream",
     "text": [
      "<class 'pandas.core.frame.DataFrame'>\n",
      "Int64Index: 4417 entries, 28607 to 33023\n",
      "Data columns (total 7 columns):\n",
      " #   Column    Non-Null Count  Dtype  \n",
      "---  ------    --------------  -----  \n",
      " 0   Date      4417 non-null   int64  \n",
      " 1   open      4417 non-null   float64\n",
      " 2   high      4417 non-null   float64\n",
      " 3   low       4417 non-null   float64\n",
      " 4   close     4417 non-null   float64\n",
      " 5   adjclose  4417 non-null   float64\n",
      " 6   volume    4417 non-null   float64\n",
      "dtypes: float64(6), int64(1)\n",
      "memory usage: 276.1 KB\n"
     ]
    },
    {
     "name": "stderr",
     "output_type": "stream",
     "text": [
      "C:\\Users\\Scott\\AppData\\Local\\Temp\\ipykernel_11552\\37071692.py:1: SettingWithCopyWarning: \n",
      "A value is trying to be set on a copy of a slice from a DataFrame.\n",
      "Try using .loc[row_indexer,col_indexer] = value instead\n",
      "\n",
      "See the caveats in the documentation: https://pandas.pydata.org/pandas-docs/stable/user_guide/indexing.html#returning-a-view-versus-a-copy\n",
      "  df2['Date'] = pd.to_numeric(df2['Date'],errors = 'coerce')\n"
     ]
    }
   ],
   "source": [
    "df2['Date'] = pd.to_numeric(df2['Date'],errors = 'coerce')\n",
    "df2.info()"
   ]
  },
  {
   "cell_type": "markdown",
   "metadata": {},
   "source": [
    "**Data Normalization**\n",
    "* In its raw form from Kaggle the data is not in a good range to predict the future price. Feature scaling is the way to normalize the data to increase the performance of some machine learning algorithms. Here we use sklearn MinMaxScaler method to range the data between 0 and 1."
   ]
  },
  {
   "cell_type": "code",
   "execution_count": 333,
   "metadata": {},
   "outputs": [],
   "source": [
    "scaler = MinMaxScaler()\n",
    "feature_columns = df2.columns\n",
    "feature_minmax_data = scaler.fit_transform(df2)\n",
    "normalized_features_df = pd.DataFrame(columns=feature_columns, data=feature_minmax_data, index=df2.index)"
   ]
  },
  {
   "cell_type": "code",
   "execution_count": 334,
   "metadata": {},
   "outputs": [],
   "source": [
    "y = normalized_features_df.adjclose.values\n",
    "normalized_features_df.drop(['adjclose'],axis=1,inplace=True)\n",
    "x= normalized_features_df.values\n",
    "xtrain, xtest, ytrain, ytest =  train_test_split(x,y, test_size = 0.25, random_state=42)"
   ]
  },
  {
   "cell_type": "code",
   "execution_count": 335,
   "metadata": {},
   "outputs": [
    {
     "data": {
      "text/plain": [
       "Text(0, 0.5, 'Price')"
      ]
     },
     "execution_count": 335,
     "metadata": {},
     "output_type": "execute_result"
    },
    {
     "data": {
      "image/png": "[encoded data removed]",
      "text/plain": [
       "<Figure size 432x288 with 1 Axes>"
      ]
     },
     "metadata": {
      "needs_background": "light"
     },
     "output_type": "display_data"
    }
   ],
   "source": [
    "plt.scatter(xtrain[:,0], ytrain , color=\"red\")\n",
    "plt.title('Time vs Price (Train Data)')\n",
    "plt.xlabel(\"Time\")\n",
    "plt.ylabel(\"Price\")"
   ]
  },
  {
   "cell_type": "code",
   "execution_count": 336,
   "metadata": {},
   "outputs": [
    {
     "data": {
      "text/plain": [
       "Text(0, 0.5, 'Price')"
      ]
     },
     "execution_count": 336,
     "metadata": {},
     "output_type": "execute_result"
    },
    {
     "data": {
      "image/png": "[encoded data removed]",
      "text/plain": [
       "<Figure size 432x288 with 1 Axes>"
      ]
     },
     "metadata": {
      "needs_background": "light"
     },
     "output_type": "display_data"
    }
   ],
   "source": [
    "plt.scatter(xtest[:,0], ytest , color=\"blue\")\n",
    "plt.title('Time vs Price (Test Data)')\n",
    "plt.xlabel(\"Time\")\n",
    "plt.ylabel(\"Price\")"
   ]
  },
  {
   "cell_type": "markdown",
   "metadata": {},
   "source": [
    "# **Machine Learning Approaches - Model Training & Testing - Experimentation**\n",
    "\n",
    "1. Ridge regression is a model tuning method that is used to analyze any data that suffers from multicollinearity. This method performs L2 regularization. If there is an issue with multicollinearity, least-squares are unbiased, and variances are large, this results in predicted values are far away from the actual data. In our model, the results show that the predicted data fits well based on the MSE and R2 Score.\n",
    "\n",
    "2. Lasso regression is a regularization technique. It obtains the subset of predictors that minimizes prediction error. This model uses shrinkage. Shrinkage is where data values are shrunk towards a central point as the mean. The lasso procedure encourages simple, sparse models."
   ]
  },
  {
   "cell_type": "code",
   "execution_count": 337,
   "metadata": {},
   "outputs": [
    {
     "name": "stdout",
     "output_type": "stream",
     "text": [
      "Date      0.000135\n",
      "open     -0.069195\n",
      "high      0.139389\n",
      "low       0.155779\n",
      "close     0.774057\n",
      "volume    0.000156\n",
      "dtype: float64\n"
     ]
    }
   ],
   "source": [
    "alphas = 10**np.linspace(10,-2,100)*0.5\n",
    "ridge = Ridge()\n",
    "coefs = []\n",
    "\n",
    "for a in alphas:\n",
    "    ridge.set_params(alpha = a)\n",
    "    ridge.fit(xtrain, ytrain)\n",
    "    coefs.append(ridge.coef_)\n",
    "    \n",
    "np.shape(coefs) \n",
    "\n",
    "pred1 = ridge.predict(xtest)          \n",
    "print(pd.Series(ridge.coef_, index = normalized_features_df.columns[0:6]))"
   ]
  },
  {
   "cell_type": "code",
   "execution_count": 338,
   "metadata": {},
   "outputs": [
    {
     "name": "stdout",
     "output_type": "stream",
     "text": [
      "Date      0.017145\n",
      "open      0.240508\n",
      "high      0.244910\n",
      "low       0.244658\n",
      "close     0.249042\n",
      "volume    0.009612\n",
      "dtype: float64\n"
     ]
    }
   ],
   "source": [
    "ridge2 = Ridge(alpha=4)\n",
    "ridge2.fit(xtrain,ytrain)            \n",
    "pred2 = ridge2.predict(xtest)      \n",
    "print(pd.Series(ridge2.coef_, index = normalized_features_df.columns[0:6])) "
   ]
  },
  {
   "cell_type": "code",
   "execution_count": 339,
   "metadata": {},
   "outputs": [
    {
     "name": "stdout",
     "output_type": "stream",
     "text": [
      "Date      1.727859e-08\n",
      "open      1.506811e-08\n",
      "high      1.519337e-08\n",
      "low       1.512606e-08\n",
      "close     1.519729e-08\n",
      "volume   -3.022569e-09\n",
      "dtype: float64\n"
     ]
    }
   ],
   "source": [
    "ridge3 = Ridge(alpha=10**10)\n",
    "ridge3.fit(xtrain,ytrain)             \n",
    "pred3 = ridge3.predict(xtest) \n",
    "    \n",
    "print(pd.Series(ridge3.coef_, index = normalized_features_df.columns[0:6]))  "
   ]
  },
  {
   "cell_type": "code",
   "execution_count": 340,
   "metadata": {},
   "outputs": [
    {
     "name": "stdout",
     "output_type": "stream",
     "text": [
      "Date     -2.110412e-14\n",
      "open      1.427032e-11\n",
      "high     -1.421068e-11\n",
      "low      -2.200753e-11\n",
      "close     1.000000e+00\n",
      "volume   -5.183243e-14\n",
      "dtype: float64\n"
     ]
    }
   ],
   "source": [
    "ridge4 = Ridge(alpha=0)\n",
    "ridge4.fit(xtrain,ytrain)             \n",
    "pred4 = ridge4.predict(xtest)   \n",
    "    \n",
    "print(pd.Series(ridge4.coef_, index = normalized_features_df.columns[0:6]))  "
   ]
  },
  {
   "cell_type": "code",
   "execution_count": 341,
   "metadata": {},
   "outputs": [
    {
     "name": "stdout",
     "output_type": "stream",
     "text": [
      "Date      0.029284\n",
      "open      0.000000\n",
      "high      0.217286\n",
      "low       0.000000\n",
      "close     0.640509\n",
      "volume   -0.000000\n",
      "dtype: float64\n"
     ]
    }
   ],
   "source": [
    "lasso = Lasso(max_iter = 10000)\n",
    "coefs = []\n",
    "\n",
    "for a in alphas:\n",
    "    lasso.set_params(alpha=a)\n",
    "    lasso.fit(xtrain, ytrain)\n",
    "    coefs.append(lasso.coef_)\n",
    "\n",
    "np.shape(coefs) \n",
    "\n",
    "pred1_lasso = lasso.predict(xtest)\n",
    "print(pd.Series(lasso.coef_, index = normalized_features_df.columns[0:6]))"
   ]
  },
  {
   "cell_type": "code",
   "execution_count": 342,
   "metadata": {},
   "outputs": [
    {
     "name": "stdout",
     "output_type": "stream",
     "text": [
      "Date      0.029416\n",
      "open      0.000000\n",
      "high      0.689339\n",
      "low       0.000000\n",
      "close     0.168428\n",
      "volume   -0.000000\n",
      "dtype: float64\n"
     ]
    },
    {
     "name": "stderr",
     "output_type": "stream",
     "text": [
      "C:\\ProgramData\\Anaconda3\\lib\\site-packages\\sklearn\\linear_model\\_coordinate_descent.py:647: ConvergenceWarning: Objective did not converge. You might want to increase the number of iterations, check the scale of the features or consider increasing regularisation. Duality gap: 1.583e-02, tolerance: 1.520e-02\n",
      "  model = cd_fast.enet_coordinate_descent(\n"
     ]
    }
   ],
   "source": [
    "lasso2 = Lasso(alpha = 4.0)\n",
    "coefs2 = []\n",
    "\n",
    "for a in alphas:\n",
    "    lasso2.set_params(alpha=a)\n",
    "    lasso2.fit(xtrain, ytrain)\n",
    "    coefs2.append(lasso.coef_)\n",
    "\n",
    "np.shape(coefs2) \n",
    "pred2_lasso = lasso2.predict(xtest)\n",
    "print(pd.Series(lasso2.coef_, index = normalized_features_df.columns[0:6]))"
   ]
  },
  {
   "cell_type": "code",
   "execution_count": 343,
   "metadata": {},
   "outputs": [
    {
     "data": {
      "image/png": "[encoded data removed]",
      "text/plain": [
       "<Figure size 432x288 with 1 Axes>"
      ]
     },
     "metadata": {
      "needs_background": "light"
     },
     "output_type": "display_data"
    }
   ],
   "source": [
    "plt.scatter(xtrain[:,0], ytrain, color = 'red')\n",
    "plt.scatter(xtest[:,0], pred1, color = 'blue')\n",
    "plt.title('Time vs Price (Ridge Regression - Expirement 1)')\n",
    "plt.xlabel(\"Time\")\n",
    "plt.ylabel(\"Price\")\n",
    "plt.show()"
   ]
  },
  {
   "cell_type": "code",
   "execution_count": 344,
   "metadata": {},
   "outputs": [
    {
     "data": {
      "image/png": "[encoded data removed]",
      "text/plain": [
       "<Figure size 432x288 with 1 Axes>"
      ]
     },
     "metadata": {
      "needs_background": "light"
     },
     "output_type": "display_data"
    }
   ],
   "source": [
    "plt.scatter(xtrain[:,0], ytrain, color = 'red')\n",
    "plt.scatter(xtest[:,0], pred2, color = 'blue')\n",
    "plt.title('Time vs Price (Ridge Regression - Expirement 2)')\n",
    "plt.xlabel(\"Time\")\n",
    "plt.ylabel(\"Price\")\n",
    "plt.show()"
   ]
  },
  {
   "cell_type": "code",
   "execution_count": 345,
   "metadata": {},
   "outputs": [
    {
     "data": {
      "image/png": "[encoded data removed]",
      "text/plain": [
       "<Figure size 432x288 with 1 Axes>"
      ]
     },
     "metadata": {
      "needs_background": "light"
     },
     "output_type": "display_data"
    }
   ],
   "source": [
    "plt.scatter(xtrain[:,0], ytrain, color = 'red')\n",
    "plt.scatter(xtest[:,0], pred3, color = 'blue')\n",
    "plt.title('Time vs Price (Ridge Regression - Expirement 3)')\n",
    "plt.xlabel(\"Time\")\n",
    "plt.ylabel(\"Price\")\n",
    "plt.show()"
   ]
  },
  {
   "cell_type": "code",
   "execution_count": 346,
   "metadata": {},
   "outputs": [
    {
     "data": {
      "image/png": "[encoded data removed]",
      "text/plain": [
       "<Figure size 432x288 with 1 Axes>"
      ]
     },
     "metadata": {
      "needs_background": "light"
     },
     "output_type": "display_data"
    }
   ],
   "source": [
    "plt.scatter(xtrain[:,0], ytrain, color = 'red')\n",
    "plt.scatter(xtest[:,0], pred4, color = 'blue')\n",
    "plt.title('Time vs Price (Ridge Regression - Expirement 4)')\n",
    "plt.xlabel(\"Time\")\n",
    "plt.ylabel(\"Price\")\n",
    "plt.show()"
   ]
  },
  {
   "cell_type": "code",
   "execution_count": 347,
   "metadata": {},
   "outputs": [
    {
     "data": {
      "image/png": "[encoded data removed]",
      "text/plain": [
       "<Figure size 432x288 with 1 Axes>"
      ]
     },
     "metadata": {
      "needs_background": "light"
     },
     "output_type": "display_data"
    }
   ],
   "source": [
    "plt.scatter(xtrain[:,0], ytrain, color = 'red')\n",
    "plt.scatter(xtest[:,0], pred1_lasso, color = 'blue')\n",
    "plt.title('Time vs Price (Lasso Regression- Expirement 5)')\n",
    "plt.xlabel(\"Time\")\n",
    "plt.ylabel(\"Price\")\n",
    "plt.show()"
   ]
  },
  {
   "cell_type": "code",
   "execution_count": 348,
   "metadata": {},
   "outputs": [
    {
     "data": {
      "image/png": "[encoded data removed]",
      "text/plain": [
       "<Figure size 432x288 with 1 Axes>"
      ]
     },
     "metadata": {
      "needs_background": "light"
     },
     "output_type": "display_data"
    }
   ],
   "source": [
    "plt.scatter(xtrain[:,0], ytrain, color = 'red')\n",
    "plt.scatter(xtest[:,0], pred2_lasso, color = 'blue')\n",
    "plt.title('Time vs Price (Lasso Regression- Expirement 6)')\n",
    "plt.xlabel(\"Time\")\n",
    "plt.ylabel(\"Price\")\n",
    "plt.show()"
   ]
  },
  {
   "cell_type": "markdown",
   "metadata": {},
   "source": [
    "**Evaluation Metrics**\n",
    "* The r2 score varies between 0 and 100%. R2 Score can be defined as the proportion of the variance in the dependent variable that is predictable from the independent variable(s).\n",
    "Another definition is “(total variance explained by model) / total variance.” So if it is 100%, the two variables are perfectly correlated, i.e., with no variance at all. A low value would show a low level of correlation, meaning a regression model that is not valid, but not in all cases.\n",
    "\n",
    "\n",
    "* Mean square error (MSE) is the average of the square of the errors. The larger the number the larger the error. Error in this case means the difference between the observed values y1, y2, y3, … and the predicted ones pred(y1), pred(y2), pred(y3), … We square each difference (pred(yn) – yn)) ** 2 so that negative and positive values do not cancel each other out."
   ]
  },
  {
   "cell_type": "code",
   "execution_count": 349,
   "metadata": {},
   "outputs": [
    {
     "name": "stdout",
     "output_type": "stream",
     "text": [
      "Ridge Regression: \n",
      "\n",
      "Expirement 1:\n",
      "Test mean squared error (MSE):  2.198317444450887e-07\n",
      "R2 Score: 0.9999955226981038\n",
      "\n",
      "Expirement 2: \n",
      "Test mean squared error (MSE):  1.1895637704175748e-05\n",
      "R2 Score: 0.9997577221552572\n",
      "\n",
      "Expirement 3: \n",
      "Test mean squared error (MSE):  0.04912435648526495\n",
      "R2 Score: -0.000513256170368237\n",
      "\n",
      "Expirement 4: \n",
      "Test mean squared error (MSE):  2.059797291843774e-27\n",
      "R2 Score: 1.0\n",
      "\n",
      "Lasso Regression: \n",
      "\n",
      "Expirement 5:\n",
      "Test mean squared error (MSE):  0.000606140280626577\n",
      "R2 Score: 0.987654771904287\n",
      "\n",
      "Expirement 6:\n",
      "Test mean squared error (MSE):  0.0006014653719301561\n",
      "R2 Score: 0.9877499855306182\n"
     ]
    }
   ],
   "source": [
    "print(\"Ridge Regression: \\n\")\n",
    "print(\"Expirement 1:\")\n",
    "mse1 = mean_squared_error(ytest, pred1)       \n",
    "print(\"Test mean squared error (MSE): \", mse1)\n",
    "print(\"R2 Score:\", r2_score(ytest, pred1))\n",
    "print(\"\\nExpirement 2: \")\n",
    "mse2 = mean_squared_error(ytest, pred2)       \n",
    "print(\"Test mean squared error (MSE): \", mse2)\n",
    "print(\"R2 Score:\", r2_score(ytest, pred2))\n",
    "print(\"\\nExpirement 3: \")\n",
    "mse3 = mean_squared_error(ytest, pred3)         \n",
    "print(\"Test mean squared error (MSE): \", mse3)\n",
    "print(\"R2 Score:\", r2_score(ytest, pred3))\n",
    "print(\"\\nExpirement 4: \")\n",
    "mse4 = mean_squared_error(ytest, pred4)         \n",
    "print(\"Test mean squared error (MSE): \", mse4)\n",
    "print(\"R2 Score:\", r2_score(ytest, pred4))\n",
    "\n",
    "print(\"\\nLasso Regression: \\n\")\n",
    "print(\"Expirement 5:\")\n",
    "mse5 = mean_squared_error(ytest, pred1_lasso)       \n",
    "print(\"Test mean squared error (MSE): \", mse5)\n",
    "print(\"R2 Score:\", r2_score(ytest, pred1_lasso))\n",
    "print(\"\\nExpirement 6:\")\n",
    "mse6 = mean_squared_error(ytest, pred2_lasso)         \n",
    "print(\"Test mean squared error (MSE): \", mse6)\n",
    "print(\"R2 Score:\", r2_score(ytest, pred2_lasso))"
   ]
  },
  {
   "cell_type": "markdown",
   "metadata": {},
   "source": [
    "# **Conclusion**\n",
    "* In this project, we have trained a couple of machine learning algorithms to predict stock prices. After comparing the metrics of the models' we found actual trend line and predicted trend line indicate that the Ridge regression model is the best fit model that we can use to predict the stock price. \n",
    "* After tuning the Ridge regression model with various alpha/lambda values, the model is enhanced. Through our work we can deduce that it is most likely impossible to develop a model whose prediction capacity is 99% accurate since there are multiple variables that affect the price of a company's stock. Nevertheless, we could at the very least predict the general trendline of a stocks share price by taking different factors into consideration.\n"
   ]
  }
 ],
 "metadata": {
  "colab": {
   "collapsed_sections": [],
   "name": "Copy of CS4347-Assignment2-NETID.ipynb",
   "provenance": [
    {
     "file_id": "1vsORsvIGVbJ2cNHR1lIPDIuGobP25ZPq",
     "timestamp": 1629391503766
    },
    {
     "file_id": "1vuQua73YBPg3xOVKXACAGdS_8R1OlQdX",
     "timestamp": 1611597429764
    },
    {
     "file_id": "1Jr8VoifAgTlPqVE_AiCDeWbiHGEyvkxq",
     "timestamp": 1580784119108
    }
   ]
  },
  "interpreter": {
   "hash": "61092feec5071c5645c5e9fd8e6ed751662eaf3fad39a8c2be0e7ae1843d914b"
  },
  "kernelspec": {
   "display_name": "Python 3 (ipykernel)",
   "language": "python",
   "name": "python3"
  },
  "language_info": {
   "codemirror_mode": {
    "name": "ipython",
    "version": 3
   },
   "file_extension": ".py",
   "mimetype": "text/x-python",
   "name": "python",
   "nbconvert_exporter": "python",
   "pygments_lexer": "ipython3",
   "version": "3.9.7"
  }
 },
 "nbformat": 4,
 "nbformat_minor": 2
}
